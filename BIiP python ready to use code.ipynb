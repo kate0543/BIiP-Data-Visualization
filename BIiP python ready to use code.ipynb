{
 "cells": [
  {
   "cell_type": "markdown",
   "metadata": {},
   "source": [
    "*Edited: 2022-09-13*"
   ]
  },
  {
   "cell_type": "markdown",
   "metadata": {},
   "source": [
    "## Here are code you can use to load data"
   ]
  },
  {
   "cell_type": "code",
   "execution_count": null,
   "metadata": {},
   "outputs": [],
   "source": [
    "#import libraries first\n",
    "import pandas as pd\n",
    "import plotly.express as px"
   ]
  },
  {
   "cell_type": "code",
   "execution_count": null,
   "metadata": {},
   "outputs": [],
   "source": [
    "#change my_file to the file name you want to read\n",
    "df=pd.read_csv('my_file'+'.csv')\n",
    "df"
   ]
  },
  {
   "cell_type": "code",
   "execution_count": null,
   "metadata": {},
   "outputs": [],
   "source": [
    "#define x and y for line and bar chart, values for pie chart\n",
    "px.line(df, x='', y='')\n",
    "px.bar(df, x='', y='')\n",
    "px.pie(df, values='')"
   ]
  },
  {
   "cell_type": "code",
   "execution_count": null,
   "metadata": {},
   "outputs": [],
   "source": [
    "#try to design your chart\n",
    "#you can choose one of the column to define the color amounts with color=''\n",
    "#you can give your chart a name by add a name after title=''\n",
    "px.line(df, x='', y='', color='', title='')\n",
    "px.bar(df, x='', y='', color='', title='')\n",
    "px.pie(df, values='', color='', title='')"
   ]
  },
  {
   "cell_type": "markdown",
   "metadata": {},
   "source": [
    "## Here you can try to create .gif file"
   ]
  },
  {
   "cell_type": "code",
   "execution_count": null,
   "metadata": {},
   "outputs": [],
   "source": [
    "#import libraries first\n",
    "import imageio.v2 as imageio  \n",
    "import glob\n",
    "import os   "
   ]
  },
  {
   "cell_type": "code",
   "execution_count": null,
   "metadata": {},
   "outputs": [],
   "source": [
    "# dont change def create_gif(folder), this is a function I wrote which you can use to create gif files\n",
    "def create_gif(folder):\n",
    "    path=folder+'/'\n",
    "    name=folder\n",
    "    # Here we can start create a gif file!\n",
    "    with imageio.get_writer(path+name+'.gif', mode='I',duration=0.5) as writer:\n",
    "        for filename in glob.glob(path+'*.png'): \n",
    "            image = imageio.imread(filename)\n",
    "            writer.append_data(image)  \n",
    "        for filename in glob.glob(path+'*.jpg'): \n",
    "            image = imageio.imread(filename)\n",
    "            writer.append_data(image)  \n",
    "        print(path+name+'.gif'+' created!')\n",
    "        \n",
    "# Here you need to tell computer where are your pictures!\n",
    "# change 'my_image_folder' to the folder you put image/pictures\n",
    "folder='my_image_folder'\n",
    "# call function create_gif()\n",
    "create_gif(folder)"
   ]
  }
 ],
 "metadata": {
  "kernelspec": {
   "display_name": "Python 3 (ipykernel)",
   "language": "python",
   "name": "python3"
  },
  "language_info": {
   "codemirror_mode": {
    "name": "ipython",
    "version": 3
   },
   "file_extension": ".py",
   "mimetype": "text/x-python",
   "name": "python",
   "nbconvert_exporter": "python",
   "pygments_lexer": "ipython3",
   "version": "3.9.13"
  },
  "vscode": {
   "interpreter": {
    "hash": "e0d32375c184c5815e324f646663f992ab7a261489dd04c2cd28fa11344edb31"
   }
  }
 },
 "nbformat": 4,
 "nbformat_minor": 4
}
