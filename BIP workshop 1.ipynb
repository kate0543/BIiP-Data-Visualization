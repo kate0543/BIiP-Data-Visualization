{
 "cells": [
  {
   "cell_type": "markdown",
   "id": "7b7ec422",
   "metadata": {},
   "source": [
    "# BIP Python workshop 1\n",
    "\n",
    "In this workshop we will try to do learn how to read data and visual data.\n",
    "\n",
    "## Python and Anaconda\n",
    "\n",
    "**Python** is a programming language initially released in 1991 by Guido van Rossum. It is one of the most popular programming languages in general, but especially for data science and for new programmers. In this module we will be using Python 3, the major version which started in 2008, and replaces Python 2 which officially ended support in 2020.\n",
    "\n",
    "There are different ways to install Python, and manage installation of Python package, which add additional features. Some operating systems come pre-installed with Python (although sometimes this is Python 2), and you can manually install Python by downloading from the Python website. However, we recommend **Anaconda**, which is a collections of tools including Python, and a graphical user interface **Anaconda Navigator** for managing environments and packaged, and launching tools. At the time of writing, Anaconda comes with Python 3.9, which is one minor version behind the latest stable Python 3.10, but the differences will not affect this module.\n",
    "\n",
    "## Jupyter Notebook and JupterLab\n",
    "\n",
    "Python code is typically found in one of two file types, **source files** (`.py` files) which contain only executable code, and **notebook files** (`.ipynb` files) which are more interactive and contain executable code, outputs, markdown, raw text, and the ability to run extensions with more functionality such as slide shows.\n",
    "\n",
    "In this module we will always use notebooks since these are the most common in data analytics. However, all of the Python you will learn can also be used in standard Python source files. There are many coding environments which can edit notebooks, two of which are installed with Anaconda:\n",
    "\n",
    "1. Jupyter Notebook\n",
    "2. JupyterLab\n",
    "\n",
    "**Jupyter Notebook** (formerly called \"IPython\") was released in 2011 by Project Jupyter. **JupyterLab**, with the first stable release on 2018, is the \"next generation\" version of Jupyter Notebook. Unfortunately some popular third-party extensions for Jupyter Notebook have not been ported to JupyterLab yet, so many developers and teams continue to use Jupyter Notebook.\n",
    "\n",
    "There are other options such as PyCharm Professional, VS Code, and Google Colaboratory, and you could use any of those for this module too!\n",
    "\n",
    "It is important to understand that the file type created is the same no matter which application you use to edit it! Try note to confuse the software called \"Jupyter Notebook\" (upper-case \"N\") with the notebook file format, which may sometimes confusingly be called \"a Jupyter notebook\" (lower-case \"n\") perhaps because of the popularity of Jupyter Notebook.\n",
    "\n",
    "## Accessibility Note\n",
    "\n",
    "When programming, you must be able to see the difference between symbols which look similar from a distance, such as:\n",
    "\n",
    "- `-` (minus) and `=` (equals)\n",
    "- `.` (period) and `,` (comma)\n",
    "- `O` (upper-case o) and `0` (zero)\n",
    "- `1` (one), `I` (upper-case i), and `l` (lower-case L)\n",
    "\n",
    "If these symbols look too similar for you to tell apart, you may need to make adjustments. Programming is a very precise activity in which one character difference will cause your code not to run correctly. Since we are looking at Jupyter Notebook or JupyterLab in the web browser you can zoom in on the text.\n",
    "\n",
    "On Windows:\n",
    "\n",
    "&nbsp;&nbsp;&nbsp;&nbsp;&nbsp;&nbsp;&nbsp;hold `Ctrl` and press the plus or minus keys\n",
    "\n",
    "On macOS:\n",
    "\n",
    "&nbsp;&nbsp;&nbsp;&nbsp;&nbsp;&nbsp;&nbsp;hold `command ⌘` and press the plus or minus keys\n",
    "\n",
    "Further customisation can be done, including the use of screen zoom available in Windows and macOS through accessibility, changing colours through JupyterLab's dark mode, and adjusting typefaces.\n",
    "\n",
    "## Code Cells (and Output Cells)\n",
    "\n",
    "In a notebooks, there are three types of cells you can create:\n",
    "\n",
    "1. code;\n",
    "2. markdown; and\n",
    "3. raw (called \"Raw\" in JupyterLab and \"Raw NBConvert\" in Jupyter Notebook)\n",
    "\n",
    "First we will focus on code cells. A **code cell** is where you type your Python code to be run. Sometimes you will hear these called \"input cells\", but since this might be confused with user input, which they are not, it is clearer to call these \"code cells\".\n",
    "\n",
    "The cell below is a code cell. You should see that JupyterLab displays `[ ]` on the left of the code cell, or Jupyter Notebook will display `In [ ]`.\n",
    "\n",
    "Click on the code cell, then click on the \"Run\" button on the toolbar (it looks like a play button ▶).\n"
   ]
  },
  {
   "cell_type": "markdown",
   "id": "a0afe0e6",
   "metadata": {},
   "source": [
    "## Now Let's start from Hello World!\n",
    "**Learn how to print using python!**"
   ]
  },
  {
   "cell_type": "code",
   "execution_count": 10,
   "id": "2accb7e4",
   "metadata": {},
   "outputs": [
    {
     "name": "stdout",
     "output_type": "stream",
     "text": [
      "Hello World\n"
     ]
    }
   ],
   "source": [
    "print('Hello World!')"
   ]
  },
  {
   "cell_type": "markdown",
   "id": "4c85f28b",
   "metadata": {},
   "source": [
    "## Now let's say hello yourself\n",
    "Change World to your name\n",
    "As seen below, my name is Kate, so I change World to Kate."
   ]
  },
  {
   "cell_type": "code",
   "execution_count": 11,
   "id": "f6dc4b47",
   "metadata": {},
   "outputs": [
    {
     "name": "stdout",
     "output_type": "stream",
     "text": [
      "Hello Kate !\n"
     ]
    }
   ],
   "source": [
    "print('Hello Kate !')"
   ]
  },
  {
   "cell_type": "code",
   "execution_count": 14,
   "id": "5fbf1834",
   "metadata": {},
   "outputs": [
    {
     "name": "stdout",
     "output_type": "stream",
     "text": [
      "now:  2023-01-26 14:42:08.175716\n",
      "date  2023-01-26\n",
      "time: 14:42:08\n"
     ]
    }
   ],
   "source": [
    "from datetime import datetime\n",
    "from datetime import date\n",
    "\n",
    "\n",
    "now = datetime.now()\n",
    "date = date.today()\n",
    "time = now.strftime(\"%H:%M:%S\")\n",
    "\n",
    "print('now: ', now)\n",
    "print('date ', date)\n",
    "print('time:', time)"
   ]
  },
  {
   "cell_type": "markdown",
   "id": "0ba32d53",
   "metadata": {},
   "source": [
    "**what else can python do?**\n",
    "Try to use python as a calculator!"
   ]
  },
  {
   "cell_type": "code",
   "execution_count": 18,
   "id": "dd2b5d3b",
   "metadata": {},
   "outputs": [
    {
     "data": {
      "text/plain": [
       "2"
      ]
     },
     "execution_count": 18,
     "metadata": {},
     "output_type": "execute_result"
    }
   ],
   "source": [
    "1 + 1"
   ]
  },
  {
   "cell_type": "code",
   "execution_count": 19,
   "id": "1b79999b",
   "metadata": {},
   "outputs": [
    {
     "data": {
      "text/plain": [
       "60"
      ]
     },
     "execution_count": 19,
     "metadata": {},
     "output_type": "execute_result"
    }
   ],
   "source": [
    "12 * 5"
   ]
  },
  {
   "cell_type": "code",
   "execution_count": 20,
   "id": "c3d818c4",
   "metadata": {},
   "outputs": [
    {
     "data": {
      "text/plain": [
       "3554570504142276556050"
      ]
     },
     "execution_count": 20,
     "metadata": {},
     "output_type": "execute_result"
    }
   ],
   "source": [
    "123493458945 * 28783471890"
   ]
  }
 ],
 "metadata": {
  "kernelspec": {
   "display_name": "Python 3 (ipykernel)",
   "language": "python",
   "name": "python3"
  },
  "language_info": {
   "codemirror_mode": {
    "name": "ipython",
    "version": 3
   },
   "file_extension": ".py",
   "mimetype": "text/x-python",
   "name": "python",
   "nbconvert_exporter": "python",
   "pygments_lexer": "ipython3",
   "version": "3.9.13"
  },
  "vscode": {
   "interpreter": {
    "hash": "ad2bdc8ecc057115af97d19610ffacc2b4e99fae6737bb82f5d7fb13d2f2c186"
   }
  }
 },
 "nbformat": 4,
 "nbformat_minor": 5
}
