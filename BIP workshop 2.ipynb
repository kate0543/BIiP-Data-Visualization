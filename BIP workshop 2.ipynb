{
 "cells": [
  {
   "cell_type": "markdown",
   "metadata": {},
   "source": [
    "*Edited: 2022-09-13*"
   ]
  },
  {
   "cell_type": "markdown",
   "metadata": {},
   "source": [
    "# BIP Python workshop 2\n",
    "\n",
    "This week we start using the Pandas library for managing data.\n",
    "\n",
    "The Pandas library is used with tabular data, and allows us to easily and conveniently load structured datasets, such as CSV files without having to manually parse the file the way we would with a messier data file.\n",
    "\n",
    "## Importing Pandas\n",
    "\n",
    "When we use Pandas, we the first thing we will need to do is import the Pandas library. We only need to do this once, and usually we will do this at the very top of our notebook.\n",
    "\n",
    "It is conventional to import Pandas not as the default `pandas` but as `pd`. You will see this in many text books and tutorials."
   ]
  },
  {
   "cell_type": "code",
   "execution_count": null,
   "metadata": {},
   "outputs": [],
   "source": [
    "import pandas as pd"
   ]
  },
  {
   "cell_type": "markdown",
   "metadata": {},
   "source": [
    "## Reading CSV Files\n",
    "\n",
    "Now that we have imported the library, we can create data frames. As you saw in the lesson videos, we can create a data frame using the data frame constructor.\n",
    "\n",
    "However, it is far more common to load data from a file, so that is how we will load our data in this lab.\n",
    "\n",
    "First we will load the dataset `dogs.csv`.\n",
    "\n",
    "To display the dataset we justed loaded, we will write the variable name on a new line."
   ]
  },
  {
   "cell_type": "code",
   "execution_count": null,
   "metadata": {},
   "outputs": [],
   "source": [
    "df = pd.read_csv('dogs.csv')\n",
    "\n",
    "df"
   ]
  },
  {
   "cell_type": "code",
   "execution_count": null,
   "metadata": {},
   "outputs": [],
   "source": [
    "\n",
    "print(df.shape)\n",
    "print('this table has ',df.shape[0], ' rows x ',df.shape[1], 'columns')"
   ]
  },
  {
   "cell_type": "markdown",
   "metadata": {},
   "source": [
    " Python has many data visualisation libraries. One of the easiest to use is Plotly Express. In this module we will just be touching on the basics of visualisation in Python.\n",
    "\n",
    "We will be importing pandas and plotly express. This is usually going to be done once at the top of our notebook.\n",
    "\n",
    "**If the import for Plotly gives an error such as \"No module named plotly\" then refer to the installation instructions.**"
   ]
  },
  {
   "cell_type": "code",
   "execution_count": null,
   "metadata": {},
   "outputs": [],
   "source": [
    "import pandas as pd\n",
    "import plotly.express as px"
   ]
  },
  {
   "cell_type": "markdown",
   "metadata": {},
   "source": [
    "To test that Plotly is working, we're just going to run the first example from the Plotly documentation.\n",
    "\n",
    "Run the code below to render a scatter plot.\n",
    "\n",
    "**If you are using JupterLab and the plot area is completely blank then refer to the installation instructions.**\n",
    "\n",
    "**If you are still having issues and can't get Plotly to work at all in JupyterLab, try it in Jupyter Notebook, since that seems to work more reliably**"
   ]
  },
  {
   "cell_type": "code",
   "execution_count": null,
   "metadata": {},
   "outputs": [],
   "source": [
    "df = pd.read_csv('dogs.csv')\n",
    "print(df['UK Registrations'])\n",
    "px.scatter(df, x=\"UK Registrations\", y=\"Weight (kg)\", log_x=True, size=\"UK Registrations\",color=\"Breed Name\")"
   ]
  },
  {
   "cell_type": "markdown",
   "metadata": {},
   "source": [
    "Now we know how to create plots in Plotly Express. You can also create 2D and 3D scatter plots, bar charts, and animated 2D scatter plots.\n",
    "\n",
    "It is very important to be able to refer to the official Plotly documentation when trying to build a plot if you don't have all of the dozens of plot types and hundreds of function arguments memorized.\n",
    "\n",
    "So always read the documentation while building a plot."
   ]
  },
  {
   "cell_type": "code",
   "execution_count": null,
   "metadata": {},
   "outputs": [],
   "source": [
    "px.bar(df, x=\"UK Registrations\", y=\"Breed Name\", color=\"Breed Name\")"
   ]
  },
  {
   "cell_type": "code",
   "execution_count": null,
   "metadata": {},
   "outputs": [],
   "source": [
    "px.line(df, x=\"UK Registrations\", y=\"Breed Name\")"
   ]
  },
  {
   "cell_type": "code",
   "execution_count": null,
   "metadata": {},
   "outputs": [],
   "source": [
    "px.pie(df,values=\"UK Registrations\",names=\"Breed Name\",title=\"UK registration per breed\")"
   ]
  },
  {
   "cell_type": "code",
   "execution_count": null,
   "metadata": {},
   "outputs": [],
   "source": [
    "px.histogram(df, x=\"Weight (kg)\",color='Breed Name')"
   ]
  },
  {
   "cell_type": "markdown",
   "metadata": {},
   "source": [
    "Let's check out on Beer and Cider dataset!"
   ]
  },
  {
   "cell_type": "code",
   "execution_count": null,
   "metadata": {},
   "outputs": [],
   "source": [
    "df = pd.read_csv('Beer and Cider Alcohol Content'+'.csv')\n",
    "\n",
    "df"
   ]
  },
  {
   "cell_type": "code",
   "execution_count": null,
   "metadata": {},
   "outputs": [],
   "source": [
    "px.scatter(df, x=\"brand\", y=\"style\",  color=\"brand\")"
   ]
  },
  {
   "cell_type": "code",
   "execution_count": null,
   "metadata": {},
   "outputs": [],
   "source": [
    "px.bar(df,  x=\"brand\", y=\"style\", color=\"brand\")"
   ]
  },
  {
   "cell_type": "code",
   "execution_count": null,
   "metadata": {},
   "outputs": [],
   "source": [
    " \n",
    "px.line(df,x=\"product\", y=\"units_per_100ml\")"
   ]
  },
  {
   "cell_type": "code",
   "execution_count": null,
   "metadata": {},
   "outputs": [],
   "source": [
    "df=pd.read_csv(\"Beer and Cider Alcohol Content.csv\")\n",
    "count=[]\n",
    "for i in range (df['brand'].size): \n",
    "    brand_df=df.loc[df.brand==df['brand'][i]]\n",
    "    c=brand_df['product'].size\n",
    "    count.append(c)\n",
    "df.insert(0,'product_per_brand','')\n",
    "df['product_per_brand'] = count\n",
    "px.pie(df.head(20), values='product_per_brand', names='brand', title='product_per_brand')\n"
   ]
  },
  {
   "cell_type": "code",
   "execution_count": null,
   "metadata": {},
   "outputs": [],
   "source": [
    "px.pie(df.tail(20), values='product_per_brand', names='brand', title='product_per_brand')\n"
   ]
  },
  {
   "cell_type": "markdown",
   "metadata": {},
   "source": [
    "**Another way to load data?**\n",
    "Yes!\n",
    "You can also read data from online sources!"
   ]
  },
  {
   "cell_type": "code",
   "execution_count": null,
   "metadata": {},
   "outputs": [],
   "source": [
    "import urllib.request\n",
    "import pandas as pd\n",
    "\n",
    "url = \"https://raw.github.com/datasets/gdp/master/data/gdp.csv\" \n",
    "df=pd.read_csv(url)\n",
    "df "
   ]
  },
  {
   "cell_type": "markdown",
   "metadata": {},
   "source": [
    "**How to filter data by row value?**\n",
    "By Column, you can filter data simply just provide column name\n",
    "By Row, You can filter data by provide row value you want to see \n"
   ]
  },
  {
   "cell_type": "code",
   "execution_count": null,
   "metadata": {},
   "outputs": [],
   "source": [
    "import plotly.express as px\n",
    "#Here let's check what columns we have \n",
    "columns=df.columns.tolist()\n",
    "print(df.columns)\n",
    "#Now you can chose one columns you want to see\n",
    "print(set(df[columns[2]].tolist()))\n",
    "#Now check the original data with a line graph\n",
    "fig=px.line(df,x='Year',y='Value',  color='Country Name',  symbol=\"Country Name\")\n",
    "fig.show()"
   ]
  },
  {
   "cell_type": "markdown",
   "metadata": {},
   "source": [
    "Now try to plot with filtered data \n",
    "Let's start with only plot Arab World GDP information"
   ]
  },
  {
   "cell_type": "code",
   "execution_count": null,
   "metadata": {},
   "outputs": [],
   "source": [
    "#filter data in column Country Name to Arab World only\n",
    "new_df=df[df['Country Name']=='Arab World']\n",
    "#check your filtered data\n",
    "print(new_df)\n",
    "#visual your filtered data\n",
    "fig=px.bar(new_df,x=\"Year\", y=\"Value\",  color='Value')\n",
    "fig.show()\n",
    "fig=px.scatter(new_df, x=\"Year\", y=\"Value\", color='Value')\n",
    "fig.show()\n",
    "px.line(new_df,x='Year',y='Value',  color='Country Code',symbol='Country Name')\n"
   ]
  },
  {
   "cell_type": "markdown",
   "metadata": {},
   "source": [
    "Now try to plot with filtered data again \n",
    "Let's try with only plot 2016 global GDP information"
   ]
  },
  {
   "cell_type": "code",
   "execution_count": null,
   "metadata": {},
   "outputs": [],
   "source": [
    "#filter data in column Year to value 2016 only\n",
    "new_df=df[df['Year']==2016]\n",
    "print(new_df)\n",
    "# print(len(df[~df.duplicated('Country Code')]['Country Code']))\n"
   ]
  },
  {
   "cell_type": "code",
   "execution_count": null,
   "metadata": {},
   "outputs": [],
   "source": [
    "#Now try to visual this data\n",
    "fig=px.pie(new_df.head(20),values='Value',names='Country Name',color='Country Name')\n",
    "fig.show()\n",
    "fig=px.bar(new_df.head(20),x='Country Name',y='Value',  color='Country Name')\n",
    "fig.show()"
   ]
  },
  {
   "cell_type": "markdown",
   "metadata": {},
   "source": [
    "**Now try to sort your data**\n",
    "Start with sort by GDP values\n",
    "Compare with the chart above, can you tell the difference?"
   ]
  },
  {
   "cell_type": "code",
   "execution_count": null,
   "metadata": {},
   "outputs": [],
   "source": [
    "#First, we filter data in column Year to value 2016 only\n",
    "new_df=df[df['Year']==2016]\n",
    "print(new_df)\n",
    "#Now, try to sort the data by GDP values\n",
    "new_df=new_df.sort_values(by=['Value'])\n",
    "print(new_df)\n",
    "#compare the data, have notice the difference?"
   ]
  },
  {
   "cell_type": "code",
   "execution_count": null,
   "metadata": {},
   "outputs": [],
   "source": [
    "# Now Let's visual the sorted data, can you tell the difference now?\n",
    "fig=px.pie(new_df.head(20),values='Value',names='Country Name',color='Country Name')\n",
    "fig.show()\n",
    "fig=px.bar(new_df.head(20),x='Country Name',y='Value',  color='Country Name')\n",
    "fig.show()"
   ]
  },
  {
   "cell_type": "markdown",
   "metadata": {},
   "source": [
    "**Task** Try to load your own data\n",
    "\n",
    "**Hint:** There is more than one way to do this, choose which you prefer."
   ]
  },
  {
   "cell_type": "code",
   "execution_count": null,
   "metadata": {},
   "outputs": [],
   "source": [
    "my_file_name='?'\n",
    "my_df = pd.read_csv('my_file_name'+'.csv')\n",
    "\n",
    "my_df"
   ]
  },
  {
   "cell_type": "code",
   "execution_count": null,
   "metadata": {},
   "outputs": [],
   "source": []
  }
 ],
 "metadata": {
  "kernelspec": {
   "display_name": "Python 3 (ipykernel)",
   "language": "python",
   "name": "python3"
  },
  "language_info": {
   "codemirror_mode": {
    "name": "ipython",
    "version": 3
   },
   "file_extension": ".py",
   "mimetype": "text/x-python",
   "name": "python",
   "nbconvert_exporter": "python",
   "pygments_lexer": "ipython3",
   "version": "3.9.13"
  },
  "vscode": {
   "interpreter": {
    "hash": "ad2bdc8ecc057115af97d19610ffacc2b4e99fae6737bb82f5d7fb13d2f2c186"
   }
  }
 },
 "nbformat": 4,
 "nbformat_minor": 4
}
